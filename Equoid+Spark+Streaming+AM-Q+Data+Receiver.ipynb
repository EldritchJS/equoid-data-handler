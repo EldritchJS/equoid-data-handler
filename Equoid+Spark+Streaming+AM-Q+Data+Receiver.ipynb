{
 "cells": [
  {
   "cell_type": "markdown",
   "metadata": {},
   "source": [
    "This notebook demonstrates a data receiver using the AMQP Spark Connector provided in https://github.com/radanalyticsio/streaming-amqp\n",
    "\n",
    "For each message received via AMQP, records in a Postgres database are updated. This is a stand-in to be replaced by JDG. "
   ]
  },
  {
   "cell_type": "code",
   "execution_count": null,
   "metadata": {},
   "outputs": [],
   "source": [
    "import pixiedust\n",
    "from pyspark.sql import SparkSession\n",
    "from pyspark import SparkConf, SparkContext\n",
    "from pyspark.streaming import StreamingContext\n",
    "\n",
    "import json\n",
    "import psycopg2\n",
    "from amqp import AMQPUtils"
   ]
  },
  {
   "cell_type": "markdown",
   "metadata": {},
   "source": [
    "Below is:\n",
    "\n",
    "getSale - a quick means for decoding the JSON message sent across\n",
    "\n",
    "storeSale - Checks the database to see if an item already exists, if it doesn't, it enters quantity 1. If it does, it adds 1 to the extant quantity.\n",
    "\n",
    "sendSale - Sends RDDs containing sales information to storeSale"
   ]
  },
  {
   "cell_type": "code",
   "execution_count": 2,
   "metadata": {
    "collapsed": true
   },
   "outputs": [],
   "source": [
    "def getSale(jsonMsg):\n",
    "    data = json.loads(jsonMsg)\n",
    "    return data[\"body\"][\"section\"]\n",
    "\n",
    "def storeSale(itemID):  \n",
    "    conn = psycopg2.connect(\"\"\"\n",
    "        dbname=salesdb user=daikon password=daikon host=postgresql port=5432\n",
    "        \"\"\")\n",
    "    cur = conn.cursor()\n",
    "    cur.execute(\"\"\"\n",
    "        SELECT * FROM sales\n",
    "        WHERE itemid = %s;\n",
    "        \"\"\",\n",
    "        (itemID,))\n",
    "    if(cur.fetchone()==None):\n",
    "        cur.execute(\"\"\"\n",
    "        INSERT INTO sales(itemid, quantity)\n",
    "        VALUES(%s, %s);\n",
    "        \"\"\",\n",
    "        (itemID, 1))\n",
    "    else:\n",
    "        cur.execute(\"\"\"\n",
    "        UPDATE sales\n",
    "        SET quantity = quantity + 1\n",
    "        WHERE itemid = %s;\n",
    "        \"\"\",\n",
    "        (itemID,))\n",
    "    conn.commit()\n",
    "    cur.close()\n",
    "    conn.close()\n",
    "    \n",
    "def sendSale(rdd):    \n",
    "    rdd.foreach(lambda record: storeSale(record))   "
   ]
  },
  {
   "cell_type": "markdown",
   "metadata": {},
   "source": [
    "Below the spark streaming AMQP connector is created and set up to process messages, storing their quantities into Postgres as discussed above."
   ]
  },
  {
   "cell_type": "code",
   "execution_count": 3,
   "metadata": {},
   "outputs": [],
   "source": [
    "batchIntervalSeconds = 5\n",
    "\n",
    "def makeStream():\n",
    "    sc = spark.sparkContext \n",
    "    ssc = StreamingContext(sc, batchIntervalSeconds)\n",
    "    \n",
    "    def updateFunc(new_values, last_sum):\n",
    "        return sum(new_values) + (last_sum or 0)\n",
    "    \n",
    "    receiveStream = AMQPUtils.createStream(ssc, \\\n",
    "            \"broker-amq-amqp\", \\\n",
    "            5672, \\\n",
    "            \"daikon\", \\\n",
    "            \"daikon\", \\\n",
    "            \"salesq\")\n",
    "    \n",
    "    items = receiveStream.map(getSale).foreachRDD(sendSale)\n",
    "\n",
    "    return ssc\n",
    "\n"
   ]
  },
  {
   "cell_type": "code",
   "execution_count": 4,
   "metadata": {
    "scrolled": true
   },
   "outputs": [
    {
     "data": {
      "text/plain": [
       "False"
      ]
     },
     "execution_count": 4,
     "metadata": {},
     "output_type": "execute_result"
    }
   ],
   "source": [
    "spark = SparkSession.builder.appName(\"equoid-data-handler\").config(\"spark.streaming.receiver.writeAheadLog.enable\", \"true\").getOrCreate()\n",
    "\n",
    "ssc = StreamingContext.getActiveOrCreate(\"/tmp/spark-streaming-amqp\",makeStream)\n",
    "ssc.start()\n",
    "ssc.awaitTerminationOrTimeout(batchIntervalSeconds * 2)\n"
   ]
  },
  {
   "cell_type": "code",
   "execution_count": null,
   "metadata": {},
   "outputs": [],
   "source": [
    "ssc.stop(stopSparkContext=False)"
   ]
  },
  {
   "cell_type": "code",
   "execution_count": null,
   "metadata": {},
   "outputs": [],
   "source": [
    "if( not sc._jvm.StreamingContext.getActive().isEmpty() ): \n",
    "\tsc._jvm.StreamingContext.getActive().get().stop(False)"
   ]
  },
  {
   "cell_type": "code",
   "execution_count": null,
   "metadata": {},
   "outputs": [],
   "source": [
    "!rm -rf /tmp/spark-st*"
   ]
  },
  {
   "cell_type": "code",
   "execution_count": null,
   "metadata": {
    "collapsed": true
   },
   "outputs": [],
   "source": []
  }
 ],
 "metadata": {
  "kernelspec": {
   "display_name": "Python with Pixiedust (Spark 2.2)",
   "language": "python",
   "name": "pythonwithpixiedustspark22"
  },
  "language_info": {
   "codemirror_mode": {
    "name": "ipython",
    "version": 3
   },
   "file_extension": ".py",
   "mimetype": "text/x-python",
   "name": "python",
   "nbconvert_exporter": "python",
   "pygments_lexer": "ipython3",
   "version": "3.6.2"
  }
 },
 "nbformat": 4,
 "nbformat_minor": 2
}
